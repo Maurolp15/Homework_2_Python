{
 "cells": [
  {
   "cell_type": "code",
   "execution_count": 8,
   "id": "19f40de1-5a3b-407c-a97d-be56dad0734b",
   "metadata": {},
   "outputs": [],
   "source": [
    "import csv\n",
    "from pathlib import Path"
   ]
  },
  {
   "cell_type": "code",
   "execution_count": 9,
   "id": "f4b7a851-a05f-485d-92a4-8e789c189f59",
   "metadata": {},
   "outputs": [],
   "source": [
    "filepath = Path(\"../../../UM_bc_wc/02-Homework/02-Python/Instructions/PyBank/Resources/budget_data.csv\")"
   ]
  },
  {
   "cell_type": "code",
   "execution_count": 10,
   "id": "7d350f0f-923c-4364-a772-089bf596eaa2",
   "metadata": {},
   "outputs": [
    {
     "name": "stdout",
     "output_type": "stream",
     "text": [
      "Date,Profit/Losses\n",
      "Jan-2010,867884\n",
      "Feb-2010,984655\n",
      "Mar-2010,322013\n",
      "Apr-2010,-69417\n",
      "May-2010,310503\n",
      "Jun-2010,522857\n",
      "Jul-2010,1033096\n",
      "Aug-2010,604885\n",
      "Sep-2010,-216386\n",
      "Oct-2010,477532\n",
      "Nov-2010,893810\n",
      "Dec-2010,-80353\n",
      "Jan-2011,779806\n",
      "Feb-2011,-335203\n",
      "Mar-2011,697845\n",
      "Apr-2011,793163\n",
      "May-2011,485070\n",
      "Jun-2011,584122\n",
      "Jul-2011,62729\n",
      "Aug-2011,668179\n",
      "Sep-2011,899906\n",
      "Oct-2011,834719\n",
      "Nov-2011,132003\n",
      "Dec-2011,309978\n",
      "Jan-2012,-755566\n",
      "Feb-2012,1170593\n",
      "Mar-2012,252788\n",
      "Apr-2012,1151518\n",
      "May-2012,817256\n",
      "Jun-2012,570757\n",
      "Jul-2012,506702\n",
      "Aug-2012,-1022534\n",
      "Sep-2012,475062\n",
      "Oct-2012,779976\n",
      "Nov-2012,144175\n",
      "Dec-2012,542494\n",
      "Jan-2013,359333\n",
      "Feb-2013,321469\n",
      "Mar-2013,67780\n",
      "Apr-2013,471435\n",
      "May-2013,565603\n",
      "Jun-2013,872480\n",
      "Jul-2013,789480\n",
      "Aug-2013,999942\n",
      "Sep-2013,-1196225\n",
      "Oct-2013,268997\n",
      "Nov-2013,-687986\n",
      "Dec-2013,1150461\n",
      "Jan-2014,682458\n",
      "Feb-2014,617856\n",
      "Mar-2014,824098\n",
      "Apr-2014,581943\n",
      "May-2014,132864\n",
      "Jun-2014,448062\n",
      "Jul-2014,689161\n",
      "Aug-2014,800701\n",
      "Sep-2014,1166643\n",
      "Oct-2014,947333\n",
      "Nov-2014,578668\n",
      "Dec-2014,988505\n",
      "Jan-2015,1139715\n",
      "Feb-2015,1029471\n",
      "Mar-2015,687533\n",
      "Apr-2015,-524626\n",
      "May-2015,158620\n",
      "Jun-2015,87795\n",
      "Jul-2015,423389\n",
      "Aug-2015,840723\n",
      "Sep-2015,568529\n",
      "Oct-2015,332067\n",
      "Nov-2015,989499\n",
      "Dec-2015,778237\n",
      "Jan-2016,650000\n",
      "Feb-2016,-1100387\n",
      "Mar-2016,-174946\n",
      "Apr-2016,757143\n",
      "May-2016,445709\n",
      "Jun-2016,712961\n",
      "Jul-2016,-1163797\n",
      "Aug-2016,569899\n",
      "Sep-2016,768450\n",
      "Oct-2016,102685\n",
      "Nov-2016,795914\n",
      "Dec-2016,60988\n",
      "Jan-2017,138230\n",
      "Feb-2017,671099\n",
      "\n"
     ]
    }
   ],
   "source": [
    "with open(filepath,\"r\") as file:\n",
    "    text = file.read()\n",
    "    print(text)"
   ]
  },
  {
   "cell_type": "code",
   "execution_count": 11,
   "id": "51468981-c4cf-4958-a1f4-473c75423797",
   "metadata": {},
   "outputs": [
    {
     "name": "stdout",
     "output_type": "stream",
     "text": [
      "['Date', 'Profit/Losses']\n",
      "----------------------\n",
      "['Jan-2010', '867884']\n",
      "['Feb-2010', '984655']\n",
      "['Mar-2010', '322013']\n",
      "['Apr-2010', '-69417']\n",
      "['May-2010', '310503']\n",
      "['Jun-2010', '522857']\n",
      "['Jul-2010', '1033096']\n",
      "['Aug-2010', '604885']\n",
      "['Sep-2010', '-216386']\n",
      "['Oct-2010', '477532']\n",
      "['Nov-2010', '893810']\n",
      "['Dec-2010', '-80353']\n",
      "['Jan-2011', '779806']\n",
      "['Feb-2011', '-335203']\n",
      "['Mar-2011', '697845']\n",
      "['Apr-2011', '793163']\n",
      "['May-2011', '485070']\n",
      "['Jun-2011', '584122']\n",
      "['Jul-2011', '62729']\n",
      "['Aug-2011', '668179']\n",
      "['Sep-2011', '899906']\n",
      "['Oct-2011', '834719']\n",
      "['Nov-2011', '132003']\n",
      "['Dec-2011', '309978']\n",
      "['Jan-2012', '-755566']\n",
      "['Feb-2012', '1170593']\n",
      "['Mar-2012', '252788']\n",
      "['Apr-2012', '1151518']\n",
      "['May-2012', '817256']\n",
      "['Jun-2012', '570757']\n",
      "['Jul-2012', '506702']\n",
      "['Aug-2012', '-1022534']\n",
      "['Sep-2012', '475062']\n",
      "['Oct-2012', '779976']\n",
      "['Nov-2012', '144175']\n",
      "['Dec-2012', '542494']\n",
      "['Jan-2013', '359333']\n",
      "['Feb-2013', '321469']\n",
      "['Mar-2013', '67780']\n",
      "['Apr-2013', '471435']\n",
      "['May-2013', '565603']\n",
      "['Jun-2013', '872480']\n",
      "['Jul-2013', '789480']\n",
      "['Aug-2013', '999942']\n",
      "['Sep-2013', '-1196225']\n",
      "['Oct-2013', '268997']\n",
      "['Nov-2013', '-687986']\n",
      "['Dec-2013', '1150461']\n",
      "['Jan-2014', '682458']\n",
      "['Feb-2014', '617856']\n",
      "['Mar-2014', '824098']\n",
      "['Apr-2014', '581943']\n",
      "['May-2014', '132864']\n",
      "['Jun-2014', '448062']\n",
      "['Jul-2014', '689161']\n",
      "['Aug-2014', '800701']\n",
      "['Sep-2014', '1166643']\n",
      "['Oct-2014', '947333']\n",
      "['Nov-2014', '578668']\n",
      "['Dec-2014', '988505']\n",
      "['Jan-2015', '1139715']\n",
      "['Feb-2015', '1029471']\n",
      "['Mar-2015', '687533']\n",
      "['Apr-2015', '-524626']\n",
      "['May-2015', '158620']\n",
      "['Jun-2015', '87795']\n",
      "['Jul-2015', '423389']\n",
      "['Aug-2015', '840723']\n",
      "['Sep-2015', '568529']\n",
      "['Oct-2015', '332067']\n",
      "['Nov-2015', '989499']\n",
      "['Dec-2015', '778237']\n",
      "['Jan-2016', '650000']\n",
      "['Feb-2016', '-1100387']\n",
      "['Mar-2016', '-174946']\n",
      "['Apr-2016', '757143']\n",
      "['May-2016', '445709']\n",
      "['Jun-2016', '712961']\n",
      "['Jul-2016', '-1163797']\n",
      "['Aug-2016', '569899']\n",
      "['Sep-2016', '768450']\n",
      "['Oct-2016', '102685']\n",
      "['Nov-2016', '795914']\n",
      "['Dec-2016', '60988']\n",
      "['Jan-2017', '138230']\n",
      "['Feb-2017', '671099']\n"
     ]
    }
   ],
   "source": [
    "date_list = []\n",
    "profit_list = []\n",
    "\n",
    "with open(filepath,\"r\") as file:\n",
    "    csvreader = csv.reader(file,delimiter=\",\")\n",
    "    header = next(csvreader)\n",
    "    print(header)\n",
    "    print('----------------------')\n",
    "    for row in csvreader:\n",
    "        print(row)"
   ]
  },
  {
   "cell_type": "code",
   "execution_count": 12,
   "id": "bd3ebb54-2cc2-4d92-97d3-cfbdde3170de",
   "metadata": {},
   "outputs": [
    {
     "name": "stdout",
     "output_type": "stream",
     "text": [
      "['Date', 'Profit/Losses']\n",
      "----------------------\n",
      "Jan-2010\n",
      "Feb-2010\n",
      "Mar-2010\n",
      "Apr-2010\n",
      "May-2010\n",
      "Jun-2010\n",
      "Jul-2010\n",
      "Aug-2010\n",
      "Sep-2010\n",
      "Oct-2010\n",
      "Nov-2010\n",
      "Dec-2010\n",
      "Jan-2011\n",
      "Feb-2011\n",
      "Mar-2011\n",
      "Apr-2011\n",
      "May-2011\n",
      "Jun-2011\n",
      "Jul-2011\n",
      "Aug-2011\n",
      "Sep-2011\n",
      "Oct-2011\n",
      "Nov-2011\n",
      "Dec-2011\n",
      "Jan-2012\n",
      "Feb-2012\n",
      "Mar-2012\n",
      "Apr-2012\n",
      "May-2012\n",
      "Jun-2012\n",
      "Jul-2012\n",
      "Aug-2012\n",
      "Sep-2012\n",
      "Oct-2012\n",
      "Nov-2012\n",
      "Dec-2012\n",
      "Jan-2013\n",
      "Feb-2013\n",
      "Mar-2013\n",
      "Apr-2013\n",
      "May-2013\n",
      "Jun-2013\n",
      "Jul-2013\n",
      "Aug-2013\n",
      "Sep-2013\n",
      "Oct-2013\n",
      "Nov-2013\n",
      "Dec-2013\n",
      "Jan-2014\n",
      "Feb-2014\n",
      "Mar-2014\n",
      "Apr-2014\n",
      "May-2014\n",
      "Jun-2014\n",
      "Jul-2014\n",
      "Aug-2014\n",
      "Sep-2014\n",
      "Oct-2014\n",
      "Nov-2014\n",
      "Dec-2014\n",
      "Jan-2015\n",
      "Feb-2015\n",
      "Mar-2015\n",
      "Apr-2015\n",
      "May-2015\n",
      "Jun-2015\n",
      "Jul-2015\n",
      "Aug-2015\n",
      "Sep-2015\n",
      "Oct-2015\n",
      "Nov-2015\n",
      "Dec-2015\n",
      "Jan-2016\n",
      "Feb-2016\n",
      "Mar-2016\n",
      "Apr-2016\n",
      "May-2016\n",
      "Jun-2016\n",
      "Jul-2016\n",
      "Aug-2016\n",
      "Sep-2016\n",
      "Oct-2016\n",
      "Nov-2016\n",
      "Dec-2016\n",
      "Jan-2017\n",
      "Feb-2017\n"
     ]
    }
   ],
   "source": [
    "with open(filepath,\"r\") as file:\n",
    "    csvreader = csv.reader(file,delimiter=\",\")\n",
    "    header = next(csvreader)\n",
    "    print(header)\n",
    "    print('----------------------')\n",
    "    for row in csvreader:\n",
    "        print(row[0])\n",
    "        date_list.append(row[0])"
   ]
  },
  {
   "cell_type": "code",
   "execution_count": 13,
   "id": "b014fd24-b64e-4edc-a00b-d7be40434bd4",
   "metadata": {},
   "outputs": [
    {
     "name": "stdout",
     "output_type": "stream",
     "text": [
      "['Jan-2010', 'Feb-2010', 'Mar-2010', 'Apr-2010', 'May-2010', 'Jun-2010', 'Jul-2010', 'Aug-2010', 'Sep-2010', 'Oct-2010', 'Nov-2010', 'Dec-2010', 'Jan-2011', 'Feb-2011', 'Mar-2011', 'Apr-2011', 'May-2011', 'Jun-2011', 'Jul-2011', 'Aug-2011', 'Sep-2011', 'Oct-2011', 'Nov-2011', 'Dec-2011', 'Jan-2012', 'Feb-2012', 'Mar-2012', 'Apr-2012', 'May-2012', 'Jun-2012', 'Jul-2012', 'Aug-2012', 'Sep-2012', 'Oct-2012', 'Nov-2012', 'Dec-2012', 'Jan-2013', 'Feb-2013', 'Mar-2013', 'Apr-2013', 'May-2013', 'Jun-2013', 'Jul-2013', 'Aug-2013', 'Sep-2013', 'Oct-2013', 'Nov-2013', 'Dec-2013', 'Jan-2014', 'Feb-2014', 'Mar-2014', 'Apr-2014', 'May-2014', 'Jun-2014', 'Jul-2014', 'Aug-2014', 'Sep-2014', 'Oct-2014', 'Nov-2014', 'Dec-2014', 'Jan-2015', 'Feb-2015', 'Mar-2015', 'Apr-2015', 'May-2015', 'Jun-2015', 'Jul-2015', 'Aug-2015', 'Sep-2015', 'Oct-2015', 'Nov-2015', 'Dec-2015', 'Jan-2016', 'Feb-2016', 'Mar-2016', 'Apr-2016', 'May-2016', 'Jun-2016', 'Jul-2016', 'Aug-2016', 'Sep-2016', 'Oct-2016', 'Nov-2016', 'Dec-2016', 'Jan-2017', 'Feb-2017']\n",
      "86\n"
     ]
    }
   ],
   "source": [
    "# total amount of months included in the database\n",
    "\n",
    "print(date_list)\n",
    "print(len(date_list))"
   ]
  },
  {
   "cell_type": "code",
   "execution_count": 97,
   "id": "0f0d7470-68fe-46b5-99a5-c609b03335f5",
   "metadata": {},
   "outputs": [
    {
     "name": "stdout",
     "output_type": "stream",
     "text": [
      "['Date', 'Profit/Losses']\n",
      "----------------------\n",
      "867884\n",
      "984655\n",
      "322013\n",
      "-69417\n",
      "310503\n",
      "522857\n",
      "1033096\n",
      "604885\n",
      "-216386\n",
      "477532\n",
      "893810\n",
      "-80353\n",
      "779806\n",
      "-335203\n",
      "697845\n",
      "793163\n",
      "485070\n",
      "584122\n",
      "62729\n",
      "668179\n",
      "899906\n",
      "834719\n",
      "132003\n",
      "309978\n",
      "-755566\n",
      "1170593\n",
      "252788\n",
      "1151518\n",
      "817256\n",
      "570757\n",
      "506702\n",
      "-1022534\n",
      "475062\n",
      "779976\n",
      "144175\n",
      "542494\n",
      "359333\n",
      "321469\n",
      "67780\n",
      "471435\n",
      "565603\n",
      "872480\n",
      "789480\n",
      "999942\n",
      "-1196225\n",
      "268997\n",
      "-687986\n",
      "1150461\n",
      "682458\n",
      "617856\n",
      "824098\n",
      "581943\n",
      "132864\n",
      "448062\n",
      "689161\n",
      "800701\n",
      "1166643\n",
      "947333\n",
      "578668\n",
      "988505\n",
      "1139715\n",
      "1029471\n",
      "687533\n",
      "-524626\n",
      "158620\n",
      "87795\n",
      "423389\n",
      "840723\n",
      "568529\n",
      "332067\n",
      "989499\n",
      "778237\n",
      "650000\n",
      "-1100387\n",
      "-174946\n",
      "757143\n",
      "445709\n",
      "712961\n",
      "-1163797\n",
      "569899\n",
      "768450\n",
      "102685\n",
      "795914\n",
      "60988\n",
      "138230\n",
      "671099\n"
     ]
    }
   ],
   "source": [
    "with open(filepath,\"r\") as file:\n",
    "    csvreader = csv.reader(file,delimiter=\",\")\n",
    "    header = next(csvreader)\n",
    "    print(header)\n",
    "    print('----------------------')\n",
    "    for row in csvreader:\n",
    "        print(row[1])\n",
    "        profit_list.append(int(row[1]))"
   ]
  },
  {
   "cell_type": "code",
   "execution_count": 98,
   "id": "6d67710e-a8a7-4b0b-8b26-0fe7547c2843",
   "metadata": {},
   "outputs": [
    {
     "name": "stdout",
     "output_type": "stream",
     "text": [
      "['867884', '984655', '322013', '-69417', '310503', '522857', '1033096', '604885', '-216386', '477532', '893810', '-80353', '779806', '-335203', '697845', '793163', '485070', '584122', '62729', '668179', '899906', '834719', '132003', '309978', '-755566', '1170593', '252788', '1151518', '817256', '570757', '506702', '-1022534', '475062', '779976', '144175', '542494', '359333', '321469', '67780', '471435', '565603', '872480', '789480', '999942', '-1196225', '268997', '-687986', '1150461', '682458', '617856', '824098', '581943', '132864', '448062', '689161', '800701', '1166643', '947333', '578668', '988505', '1139715', '1029471', '687533', '-524626', '158620', '87795', '423389', '840723', '568529', '332067', '989499', '778237', '650000', '-1100387', '-174946', '757143', '445709', '712961', '-1163797', '569899', '768450', '102685', '795914', '60988', '138230', '671099', 867884, 984655, 322013, -69417, 310503, 522857, 1033096, 604885, -216386, 477532, 893810, -80353, 779806, -335203, 697845, 793163, 485070, 584122, 62729, 668179, 899906, 834719, 132003, 309978, -755566, 1170593, 252788, 1151518, 817256, 570757, 506702, -1022534, 475062, 779976, 144175, 542494, 359333, 321469, 67780, 471435, 565603, 872480, 789480, 999942, -1196225, 268997, -687986, 1150461, 682458, 617856, 824098, 581943, 132864, 448062, 689161, 800701, 1166643, 947333, 578668, 988505, 1139715, 1029471, 687533, -524626, 158620, 87795, 423389, 840723, 568529, 332067, 989499, 778237, 650000, -1100387, -174946, 757143, 445709, 712961, -1163797, 569899, 768450, 102685, 795914, 60988, 138230, 671099]\n"
     ]
    }
   ],
   "source": [
    "print(profit_list)"
   ]
  },
  {
   "cell_type": "code",
   "execution_count": 99,
   "id": "8208e2a6-1268-48bd-82b0-33e78effbe0c",
   "metadata": {},
   "outputs": [],
   "source": [
    "total_profit = 0\n",
    "average_change = 0\n",
    "greatest_increase_in_profit = 0\n",
    "greatest_decrease_in_profit = 0"
   ]
  },
  {
   "cell_type": "code",
   "execution_count": 100,
   "id": "cc5964f2-dbad-4ded-970e-bdebd1e7f5d3",
   "metadata": {},
   "outputs": [],
   "source": [
    "# Calculate the net, average, greatest increase and greatest decrease in profit\n",
    "\n",
    "with open(filepath,\"r\") as file:\n",
    "    csvreader = csv.reader(file,delimiter=\",\")\n",
    "    header = next(csvreader)\n",
    "    for row in csvreader:\n",
    "        total_profit += int(row[1])"
   ]
  },
  {
   "cell_type": "code",
   "execution_count": 101,
   "id": "b43a12df-2385-4479-b155-8f2627575c9b",
   "metadata": {},
   "outputs": [
    {
     "name": "stdout",
     "output_type": "stream",
     "text": [
      "38382578\n"
     ]
    }
   ],
   "source": [
    "print(total_profit)"
   ]
  },
  {
   "cell_type": "code",
   "execution_count": 104,
   "id": "05f7b78d-33aa-4b5a-8005-cfe6377f98f2",
   "metadata": {},
   "outputs": [
    {
     "name": "stdout",
     "output_type": "stream",
     "text": [
      "446309.0465116279\n"
     ]
    }
   ],
   "source": [
    "average_change = total_profit / len(date_list)\n",
    "print(average_change)"
   ]
  },
  {
   "cell_type": "code",
   "execution_count": 96,
   "id": "15bed625-8b23-4bad-a990-a81234a12bc6",
   "metadata": {},
   "outputs": [
    {
     "ename": "IndentationError",
     "evalue": "expected an indented block (4125831665.py, line 9)",
     "output_type": "error",
     "traceback": [
      "\u001b[0;36m  File \u001b[0;32m\"/var/folders/4c/n0d3gkhn0rq607n3sdpf7n000000gn/T/ipykernel_4223/4125831665.py\"\u001b[0;36m, line \u001b[0;32m9\u001b[0m\n\u001b[0;31m    greatest_increase_in_profit = (row[0]) + 1\u001b[0m\n\u001b[0m                              ^\u001b[0m\n\u001b[0;31mIndentationError\u001b[0m\u001b[0;31m:\u001b[0m expected an indented block\n"
     ]
    }
   ],
   "source": [
    "greatest_increase_in_profit = []\n",
    "greatest_decrease_in_profit = []\n",
    "\n",
    "with open(filepath,\"r\") as file:\n",
    "    csvreader = csv.reader(file,delimiter=\",\")\n",
    "    header = next(csvreader)\n",
    "    for row in csvreader:\n",
    "        #print(row[0],row[1])\n",
    "    greatest_increase_in_profit = (row[0]) + 1\n",
    "        print(greatest_increase_in_profit)"
   ]
  },
  {
   "cell_type": "code",
   "execution_count": 77,
   "id": "f2dc305f-90d0-4c7f-a9b1-685f16836955",
   "metadata": {},
   "outputs": [
    {
     "ename": "IndentationError",
     "evalue": "unindent does not match any outer indentation level (<tokenize>, line 21)",
     "output_type": "error",
     "traceback": [
      "\u001b[0;36m  File \u001b[0;32m\"<tokenize>\"\u001b[0;36m, line \u001b[0;32m21\u001b[0m\n\u001b[0;31m    if revenue_change<greatest_decrease[1]:\u001b[0m\n\u001b[0m    ^\u001b[0m\n\u001b[0;31mIndentationError\u001b[0m\u001b[0;31m:\u001b[0m unindent does not match any outer indentation level\n"
     ]
    }
   ],
   "source": [
    "greatest_increase_in_profit = []\n",
    "greatest_decrease_in_profit = []\n",
    "\n",
    "#greatest_increase_in_profit = max(\"average_change\") +1\n",
    "#print(greatest_increase_in_profit)\n",
    "\n",
    "#if greates_increase_in_profit in average_change:\n",
    "    #print(greatest_increase_in_profit)\n",
    "    \n",
    "#for row in profit_list:\n",
    "    #print(row[0],row[1])\n",
    "    #greatest_increase_in_profit.append[row + 1]\n",
    "    #print(greatest_increase_in_profit)\n",
    "    \n",
    "       #The greatest increase in revenue (date and amount) over the entire period\n",
    "if revenue_change>greatest_increase[1]:\n",
    "    greatest_increase[1]= revenue_change\n",
    "    reatest_increase[0] = row['Date']\n",
    "\n",
    "        #The greatest decrease in revenue (date and amount) over the entire period\n",
    "        if revenue_change<greatest_decrease[1]:\n",
    "            greatest_decrease[1]= revenue_change\n",
    "            greatest_decrease[0] = row['Date']\n",
    "    revenue_average = sum(revenue_change_list)/len(revenue_change_list)"
   ]
  },
  {
   "cell_type": "code",
   "execution_count": 95,
   "id": "de3bdacc-a07c-4624-a40f-b26342787a78",
   "metadata": {},
   "outputs": [
    {
     "ename": "IndexError",
     "evalue": "list index out of range",
     "output_type": "error",
     "traceback": [
      "\u001b[0;31m---------------------------------------------------------------------------\u001b[0m",
      "\u001b[0;31mIndexError\u001b[0m                                Traceback (most recent call last)",
      "\u001b[0;32m/var/folders/4c/n0d3gkhn0rq607n3sdpf7n000000gn/T/ipykernel_4223/3513916066.py\u001b[0m in \u001b[0;36m<module>\u001b[0;34m\u001b[0m\n\u001b[1;32m      6\u001b[0m     \u001b[0;31m#greatest_increase_in_profit [0] = row['Date']\u001b[0m\u001b[0;34m\u001b[0m\u001b[0;34m\u001b[0m\u001b[0;34m\u001b[0m\u001b[0m\n\u001b[1;32m      7\u001b[0m \u001b[0;34m\u001b[0m\u001b[0m\n\u001b[0;32m----> 8\u001b[0;31m \u001b[0;32mif\u001b[0m \u001b[0mprofit_list\u001b[0m \u001b[0;34m<\u001b[0m \u001b[0mgreatest_decrease_in_profit\u001b[0m\u001b[0;34m[\u001b[0m\u001b[0;36m1\u001b[0m\u001b[0;34m]\u001b[0m\u001b[0;34m:\u001b[0m\u001b[0;34m\u001b[0m\u001b[0;34m\u001b[0m\u001b[0m\n\u001b[0m\u001b[1;32m      9\u001b[0m             \u001b[0mgreatest_decrease_in_profit\u001b[0m\u001b[0;34m[\u001b[0m\u001b[0;36m1\u001b[0m\u001b[0;34m]\u001b[0m\u001b[0;34m=\u001b[0m \u001b[0mprofit_list\u001b[0m\u001b[0;34m\u001b[0m\u001b[0;34m\u001b[0m\u001b[0m\n\u001b[1;32m     10\u001b[0m             \u001b[0mgreatest_decrease_in_porfit\u001b[0m\u001b[0;34m[\u001b[0m\u001b[0;36m0\u001b[0m\u001b[0;34m]\u001b[0m \u001b[0;34m=\u001b[0m \u001b[0mrow\u001b[0m\u001b[0;34m[\u001b[0m\u001b[0;36m1\u001b[0m\u001b[0;34m]\u001b[0m\u001b[0;34m\u001b[0m\u001b[0;34m\u001b[0m\u001b[0m\n",
      "\u001b[0;31mIndexError\u001b[0m: list index out of range"
     ]
    }
   ],
   "source": [
    "greatest_increase_in_profit = []\n",
    "greatest_decrease_in_profit = []\n",
    "\n",
    "#if average_change > greatest_increase_in_profit:\n",
    "    #greatest_increase_in_profit[1]= average_change\n",
    "    #greatest_increase_in_profit [0] = row['Date']\n",
    "\n",
    "#if profit_list < greatest_decrease_in_profit[1]:\n",
    "    #greatest_decrease_in_profit[1]= profit_list\n",
    "    #greatest_decrease_in_porfit[0] = row[1]"
   ]
  },
  {
   "cell_type": "code",
   "execution_count": 78,
   "id": "723a696b-0357-4443-a2b9-ffe4e12e03db",
   "metadata": {},
   "outputs": [
    {
     "name": "stdout",
     "output_type": "stream",
     "text": [
      "Financial Analysis\n",
      "------------------\n",
      "Total Months:86\n",
      "Total: $38382578\n",
      "Average Change: $446309.05\n",
      "Greates Increase in profits:\n",
      "Greates Decrease in profits:\n"
     ]
    }
   ],
   "source": [
    "print(\"Financial Analysis\")\n",
    "print('------------------')\n",
    "print(f\"Total Months:{len(date_list)}\")\n",
    "print(f\"Total: ${total_profit}\")\n",
    "print(f\"Average Change: ${round(average_change,2)}\")\n",
    "print(f\"Greates Increase in profits:\")\n",
    "print(f\"Greates Decrease in profits:\")"
   ]
  }
 ],
 "metadata": {
  "kernelspec": {
   "display_name": "Python 3 (ipykernel)",
   "language": "python",
   "name": "python3"
  },
  "language_info": {
   "codemirror_mode": {
    "name": "ipython",
    "version": 3
   },
   "file_extension": ".py",
   "mimetype": "text/x-python",
   "name": "python",
   "nbconvert_exporter": "python",
   "pygments_lexer": "ipython3",
   "version": "3.7.11"
  }
 },
 "nbformat": 4,
 "nbformat_minor": 5
}
